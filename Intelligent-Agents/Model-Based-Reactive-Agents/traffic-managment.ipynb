{
 "cells": [
  {
   "cell_type": "markdown",
   "metadata": {},
   "source": [
    "## Traffic Management System Simulation\n",
    "\n",
    "**Objective:**\n",
    "\n",
    "Create an agent that controls traffic flow at an intersection, adjusting traffic lights based on traffic volume and pedestrian presence to optimize safety and traffic flow.\n",
    "\n",
    "**Model Components**\n",
    "\n",
    "**1. Environment Model**\n",
    "\n",
    "- ``traffic_volume``: number of vehicles in each direction (north, south, east, west).\n",
    "- ``pedestrian_count``: number of pedestrians waiting to cross.\n",
    "- ``light_state``: current state of the traffic light (red, green, amber).\n",
    "- ``time``: a timer to control the timing of traffic light cycles.\n",
    "- ``waiting_time``: time that vehicles have been waiting in each direction.\n",
    "\n",
    "**2. Decision Rules**\n",
    "\n",
    "- If traffic_volume in the north direction is greater than 10 and light_state is red, switch light_state to green for the north.\n",
    "- If ``pedestrian_count`` is greater than 5, turn the pedestrian light on red.\n",
    "- Change the traffic light to amber 3 seconds before changing to red.\n",
    "- Maintain a minimum time of 30 seconds green and 10 seconds amber.\n",
    "\n",
    "**3. Agent Actions**\n",
    "\n",
    "- Continuously monitor traffic_volume and ``pedestrian_count``.\n",
    "- Change the traffic light status based on defined rules.\n",
    "- Communicate the current traffic light status and the number of vehicles and pedestrians to a display system to inform operators."
   ]
  },
  {
   "cell_type": "code",
   "execution_count": 2,
   "metadata": {},
   "outputs": [],
   "source": [
    "import random\n",
    "import time\n",
    "\n",
    "class TrafficLightAgent:\n",
    "    def __init__(self):\n",
    "        self.traffic_volume = {'north': 0, 'south': 0, 'east': 0, 'west': 0}\n",
    "        self.pedestrian_count = 0\n",
    "        self.light_state = 'red'\n",
    "        self.waiting_time = {'north': 0, 'south': 0, 'east': 0, 'west': 0}\n",
    "        self.timer = 0\n",
    "\n",
    "    def update_environment(self):\n",
    "        # Simular el volumen de tráfico y peatones\n",
    "        self.traffic_volume['north'] = random.randint(0, 20)\n",
    "        self.traffic_volume['south'] = random.randint(0, 20)\n",
    "        self.traffic_volume['east'] = random.randint(0, 20)\n",
    "        self.traffic_volume['west'] = random.randint(0, 20)\n",
    "        self.pedestrian_count = random.randint(0, 10)\n",
    "\n",
    "    def decision_making(self):\n",
    "        if self.light_state == 'red' and self.traffic_volume['north'] > 10:\n",
    "            self.light_state = 'green'\n",
    "        elif self.pedestrian_count > 5:\n",
    "            self.light_state = 'red'\n",
    "        elif self.light_state == 'green' and self.timer >= 30:\n",
    "            self.light_state = 'amber'\n",
    "\n",
    "    def simulate(self):\n",
    "        for _ in range(10):  # Simular 10 segundos\n",
    "            self.update_environment()\n",
    "            self.decision_making()\n",
    "            self.timer += 1\n",
    "            print(f'Time: {self.timer}, Light State: {self.light_state}, Traffic: {self.traffic_volume}, Pedestrians: {self.pedestrian_count}')\n",
    "            time.sleep(1)  # Esperar un segundo"
   ]
  },
  {
   "cell_type": "code",
   "execution_count": 3,
   "metadata": {},
   "outputs": [
    {
     "name": "stdout",
     "output_type": "stream",
     "text": [
      "Time: 1, Light State: green, Traffic: {'north': 16, 'south': 6, 'east': 12, 'west': 6}, Pedestrians: 9\n",
      "Time: 2, Light State: red, Traffic: {'north': 19, 'south': 1, 'east': 3, 'west': 19}, Pedestrians: 9\n",
      "Time: 3, Light State: red, Traffic: {'north': 7, 'south': 20, 'east': 14, 'west': 8}, Pedestrians: 8\n",
      "Time: 4, Light State: red, Traffic: {'north': 0, 'south': 12, 'east': 19, 'west': 1}, Pedestrians: 5\n",
      "Time: 5, Light State: red, Traffic: {'north': 3, 'south': 1, 'east': 1, 'west': 16}, Pedestrians: 5\n",
      "Time: 6, Light State: red, Traffic: {'north': 10, 'south': 12, 'east': 16, 'west': 5}, Pedestrians: 6\n",
      "Time: 7, Light State: red, Traffic: {'north': 9, 'south': 1, 'east': 18, 'west': 10}, Pedestrians: 8\n",
      "Time: 8, Light State: red, Traffic: {'north': 9, 'south': 7, 'east': 12, 'west': 11}, Pedestrians: 5\n",
      "Time: 9, Light State: red, Traffic: {'north': 6, 'south': 10, 'east': 11, 'west': 8}, Pedestrians: 4\n",
      "Time: 10, Light State: red, Traffic: {'north': 4, 'south': 16, 'east': 6, 'west': 1}, Pedestrians: 8\n"
     ]
    }
   ],
   "source": [
    "if __name__ == '__main__':\n",
    "    agent = TrafficLightAgent()\n",
    "    agent.simulate()"
   ]
  }
 ],
 "metadata": {
  "kernelspec": {
   "display_name": ".venv",
   "language": "python",
   "name": "python3"
  },
  "language_info": {
   "codemirror_mode": {
    "name": "ipython",
    "version": 3
   },
   "file_extension": ".py",
   "mimetype": "text/x-python",
   "name": "python",
   "nbconvert_exporter": "python",
   "pygments_lexer": "ipython3",
   "version": "3.11.9"
  }
 },
 "nbformat": 4,
 "nbformat_minor": 2
}
