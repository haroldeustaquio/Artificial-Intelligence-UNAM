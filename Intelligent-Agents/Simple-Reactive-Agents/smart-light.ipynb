{
 "cells": [
  {
   "cell_type": "markdown",
   "metadata": {},
   "source": [
    "## Smart Light"
   ]
  },
  {
   "cell_type": "markdown",
   "metadata": {},
   "source": [
    "**Description:**\n",
    "\n",
    "The agent controls a light in a room based on the current lighting. Its goal is to turn the light on when the room is dark and turn it off when there is enough light.\n",
    "\n",
    "**Rules of Operation:**\n",
    "\n",
    "- Rule 1: If the ambient light is less than a defined threshold, turn the light on.\n",
    "- Rule 2: If the ambient light is greater than or equal to the threshold, turn the light off."
   ]
  },
  {
   "cell_type": "code",
   "execution_count": 3,
   "metadata": {},
   "outputs": [],
   "source": [
    "import random\n",
    "import time"
   ]
  },
  {
   "cell_type": "code",
   "execution_count": 9,
   "metadata": {},
   "outputs": [],
   "source": [
    "class AgenteDeLuz:\n",
    "    def __init__(self, threshold):\n",
    "        self.threshold = threshold\n",
    "        self.light_on = False\n",
    "\n",
    "    def light(self):\n",
    "        return random.randint(0, 100)\n",
    "\n",
    "    def act(self, light_level):\n",
    "        if light_level < self.threshold and not self.light_on:\n",
    "            self.turn_on()\n",
    "        elif light_level >= self.threshold and self.light_on:\n",
    "            self.turn_off()\n",
    "\n",
    "    def turn_on(self):\n",
    "        self.light_on = True\n",
    "        print(\"The light is on\")\n",
    "\n",
    "    def turn_off(self):\n",
    "        self.light_on = False\n",
    "        print(\"The light is off\")\n",
    "\n",
    "    def simulate(self, simulation_time):\n",
    "        for _ in range(simulation_time):\n",
    "            light_level = self.light()\n",
    "            print(f\"Light level detected: {light_level}\")\n",
    "            self.act(light_level)\n",
    "            time.sleep(1)"
   ]
  },
  {
   "cell_type": "code",
   "execution_count": 10,
   "metadata": {},
   "outputs": [
    {
     "name": "stdout",
     "output_type": "stream",
     "text": [
      "Light level detected: 35\n",
      "The light is on\n",
      "Light level detected: 75\n",
      "The light is off\n",
      "Light level detected: 27\n",
      "The light is on\n",
      "Light level detected: 4\n",
      "Light level detected: 89\n",
      "The light is off\n",
      "Light level detected: 52\n",
      "Light level detected: 57\n",
      "Light level detected: 73\n",
      "Light level detected: 99\n",
      "Light level detected: 52\n"
     ]
    }
   ],
   "source": [
    "threshold_luz = 50\n",
    "agente = AgenteDeLuz(threshold_luz)\n",
    "\n",
    "# Iniciar la simulación por 10 segundos\n",
    "agente.simulate(10)"
   ]
  }
 ],
 "metadata": {
  "kernelspec": {
   "display_name": ".venv",
   "language": "python",
   "name": "python3"
  },
  "language_info": {
   "codemirror_mode": {
    "name": "ipython",
    "version": 3
   },
   "file_extension": ".py",
   "mimetype": "text/x-python",
   "name": "python",
   "nbconvert_exporter": "python",
   "pygments_lexer": "ipython3",
   "version": "3.11.9"
  }
 },
 "nbformat": 4,
 "nbformat_minor": 2
}
