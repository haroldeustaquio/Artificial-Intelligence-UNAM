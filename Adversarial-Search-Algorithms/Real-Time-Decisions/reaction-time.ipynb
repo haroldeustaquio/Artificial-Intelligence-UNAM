{
 "cells": [
  {
   "cell_type": "code",
   "execution_count": null,
   "metadata": {},
   "outputs": [],
   "source": []
  },
  {
   "cell_type": "code",
   "execution_count": null,
   "metadata": {},
   "outputs": [],
   "source": [
    "import tkinter as tk\n",
    "import time\n",
    "import random\n",
    "\n",
    "# Variables globales\n",
    "start_time = None\n",
    "reaction_time = None\n",
    "\n",
    "# Función para cambiar el color a verde en un tiempo aleatorio\n",
    "def change_to_green():\n",
    "    global start_time\n",
    "    root.config(bg=\"green\")\n",
    "    start_time = time.time()  # Registrar el momento exacto en que cambia a verde\n",
    "\n",
    "# Función que se ejecuta cuando el usuario hace clic\n",
    "def on_click(event):\n",
    "    global reaction_time\n",
    "    if start_time is not None:  # Solo mide si el color ya cambió a verde\n",
    "        reaction_time = time.time() - start_time\n",
    "        result_label.config(text=f\"Tiempo de reacción: {reaction_time:.3f} segundos\")\n",
    "        reset_button.pack(pady=10)\n",
    "\n",
    "# Función para iniciar el juego\n",
    "def start_game():\n",
    "    result_label.config(text=\"Esperando...\")\n",
    "    root.config(bg=\"red\")\n",
    "    reset_button.pack_forget()  # Oculta el botón de reinicio\n",
    "    root.after(random.randint(2000, 5000), change_to_green)  # Cambia a verde en 2-5 segundos\n",
    "\n",
    "# Configuración de la interfaz gráfica\n",
    "root = tk.Tk()\n",
    "root.title(\"Juego de Tiempo de Reacción\")\n",
    "root.geometry(\"400x300\")\n",
    "\n",
    "result_label = tk.Label(root, text=\"Haz clic cuando la pantalla se ponga verde\", font=(\"Arial\", 14))\n",
    "result_label.pack(pady=20)\n",
    "\n",
    "reset_button = tk.Button(root, text=\"Reiniciar\", command=start_game)\n",
    "\n",
    "# Configurar el color de fondo inicial y vincular el clic a la función\n",
    "root.config(bg=\"red\")\n",
    "root.bind(\"<Button-1>\", on_click)\n",
    "\n",
    "start_game()  # Comenzar el juego\n",
    "\n",
    "root.mainloop()"
   ]
  }
 ],
 "metadata": {
  "kernelspec": {
   "display_name": ".venv",
   "language": "python",
   "name": "python3"
  },
  "language_info": {
   "codemirror_mode": {
    "name": "ipython",
    "version": 3
   },
   "file_extension": ".py",
   "mimetype": "text/x-python",
   "name": "python",
   "nbconvert_exporter": "python",
   "pygments_lexer": "ipython3",
   "version": "3.11.9"
  }
 },
 "nbformat": 4,
 "nbformat_minor": 2
}
