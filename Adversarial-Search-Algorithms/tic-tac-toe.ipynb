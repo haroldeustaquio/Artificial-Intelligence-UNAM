{
 "cells": [
  {
   "cell_type": "markdown",
   "metadata": {},
   "source": [
    "# Tic-Tac-Toe"
   ]
  },
  {
   "cell_type": "markdown",
   "metadata": {},
   "source": [
    "- The board is represented as a list of lists, and players take turns entering the coordinates to place their mark (X or O).\n",
    "- The winner is verified after each move. If there is a winner or the board is filled without a winner, the game is over."
   ]
  },
  {
   "cell_type": "code",
   "execution_count": 1,
   "metadata": {},
   "outputs": [],
   "source": [
    "def print_board(board):\n",
    "    for row in board:\n",
    "        print(\" | \".join(row))\n",
    "        print(\"-\" * 5)"
   ]
  },
  {
   "cell_type": "code",
   "execution_count": 2,
   "metadata": {},
   "outputs": [],
   "source": [
    "def check_winner(board):\n",
    "    # Check rows, columns, and diagonals for a winner\n",
    "    for row in board:\n",
    "        if row[0] == row[1] == row[2] != \" \":\n",
    "            return row[0]\n",
    "    for col in range(3):\n",
    "        if board[0][col] == board[1][col] == board[2][col] != \" \":\n",
    "            return board[0][col]\n",
    "    if board[0][0] == board[1][1] == board[2][2] != \" \":\n",
    "        return board[0][0]\n",
    "    if board[0][2] == board[1][1] == board[2][0] != \" \":\n",
    "        return board[0][2]\n",
    "    return None"
   ]
  },
  {
   "cell_type": "code",
   "execution_count": 9,
   "metadata": {},
   "outputs": [],
   "source": [
    "def tic_tac_toe():\n",
    "    board = [[\" \" for _ in range(3)] for _ in range(3)]\n",
    "    current_player = \"X\"\n",
    "    \n",
    "    for turn in range(9):\n",
    "        print_board(board)\n",
    "        print(f\"Turno del jugador {current_player}. Introduce fila y columna (0, 1 o 2):\")\n",
    "        row, col = map(int, input().split())\n",
    "        \n",
    "        if board[row][col] == \" \":\n",
    "            board[row][col] = current_player\n",
    "            winner = check_winner(board)\n",
    "            if winner:\n",
    "                print_board(board)\n",
    "                print(f\"¡El jugador {winner} ha ganado!\")\n",
    "                return\n",
    "            current_player = \"O\" if current_player == \"X\" else \"X\"\n",
    "        else:\n",
    "            print(\"Esa posición ya está ocupada. Intenta de nuevo.\")\n",
    "            turn-=1\n",
    "    \n",
    "    print_board(board)\n",
    "    print(\"¡Es un empate!\")"
   ]
  },
  {
   "cell_type": "code",
   "execution_count": 10,
   "metadata": {},
   "outputs": [
    {
     "name": "stdout",
     "output_type": "stream",
     "text": [
      "  |   |  \n",
      "-----\n",
      "  |   |  \n",
      "-----\n",
      "  |   |  \n",
      "-----\n",
      "Turno del jugador X. Introduce fila y columna (0, 1 o 2):\n",
      "X |   |  \n",
      "-----\n",
      "  |   |  \n",
      "-----\n",
      "  |   |  \n",
      "-----\n",
      "Turno del jugador O. Introduce fila y columna (0, 1 o 2):\n",
      "X |   |  \n",
      "-----\n",
      "  | O |  \n",
      "-----\n",
      "  |   |  \n",
      "-----\n",
      "Turno del jugador X. Introduce fila y columna (0, 1 o 2):\n",
      "X |   |  \n",
      "-----\n",
      "  | O |  \n",
      "-----\n",
      "  |   | X\n",
      "-----\n",
      "Turno del jugador O. Introduce fila y columna (0, 1 o 2):\n",
      "X | O |  \n",
      "-----\n",
      "  | O |  \n",
      "-----\n",
      "  |   | X\n",
      "-----\n",
      "Turno del jugador X. Introduce fila y columna (0, 1 o 2):\n",
      "X | O |  \n",
      "-----\n",
      "X | O |  \n",
      "-----\n",
      "  |   | X\n",
      "-----\n",
      "Turno del jugador O. Introduce fila y columna (0, 1 o 2):\n",
      "Esa posición ya está ocupada. Intenta de nuevo.\n",
      "X | O |  \n",
      "-----\n",
      "X | O |  \n",
      "-----\n",
      "  |   | X\n",
      "-----\n",
      "Turno del jugador O. Introduce fila y columna (0, 1 o 2):\n",
      "X | O |  \n",
      "-----\n",
      "X | O |  \n",
      "-----\n",
      "  | O | X\n",
      "-----\n",
      "¡El jugador O ha ganado!\n"
     ]
    }
   ],
   "source": [
    "tic_tac_toe()"
   ]
  }
 ],
 "metadata": {
  "kernelspec": {
   "display_name": ".venv",
   "language": "python",
   "name": "python3"
  },
  "language_info": {
   "codemirror_mode": {
    "name": "ipython",
    "version": 3
   },
   "file_extension": ".py",
   "mimetype": "text/x-python",
   "name": "python",
   "nbconvert_exporter": "python",
   "pygments_lexer": "ipython3",
   "version": "3.11.9"
  }
 },
 "nbformat": 4,
 "nbformat_minor": 2
}
