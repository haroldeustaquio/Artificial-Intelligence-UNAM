{
 "cells": [
  {
   "cell_type": "markdown",
   "metadata": {},
   "source": [
    "# Craps"
   ]
  },
  {
   "cell_type": "markdown",
   "metadata": {},
   "source": [
    "1. **Initial Roll (Come-Out Roll)**:\n",
    "   - The player rolls two dice.\n",
    "   - If the total is **7 or 11**, the player wins.\n",
    "   - If the total is **2, 3, or 12**, the player loses (this is called \"crapping out\").\n",
    "   - If the total is any other number (4, 5, 6, 8, 9, 10), that number becomes the \"point.\"\n",
    "\n",
    "2. **Establishing a Point**:\n",
    "   - If a point is established, the player continues to roll the dice.\n",
    "   - The goal is now to roll the same point number again before rolling a **7**.\n",
    "\n",
    "3. **Winning and Losing**:\n",
    "   - If the player rolls the point number again before rolling a 7, the player wins.\n",
    "   - If the player rolls a 7 before rolling the point number, the player loses.\n",
    "\n",
    "4. **Game Continuation**:\n",
    "   - The game can continue with additional rounds following the same rules.\n",
    "\n",
    "### Additional Notes\n",
    "- Players can place various bets on the outcome of the dice rolls, but the basic game revolves around the win/lose conditions outlined above.\n",
    "- Craps is often played in casinos with more complex betting options, but this simplified version captures the essential mechanics of the game.\n"
   ]
  },
  {
   "cell_type": "code",
   "execution_count": 8,
   "metadata": {},
   "outputs": [],
   "source": [
    "import random"
   ]
  },
  {
   "cell_type": "code",
   "execution_count": 9,
   "metadata": {},
   "outputs": [],
   "source": [
    "def roll_dice():\n",
    "    \"\"\"Simulate rolling two six-sided dice.\"\"\"\n",
    "    die1 = random.randint(1, 6)\n",
    "    die2 = random.randint(1, 6)\n",
    "    return die1, die2"
   ]
  },
  {
   "cell_type": "code",
   "execution_count": 10,
   "metadata": {},
   "outputs": [],
   "source": [
    "def craps():\n",
    "    \"\"\"Play a simple version of the Craps game.\"\"\"\n",
    "    print(\"Welcome to Craps!\")\n",
    "    \n",
    "    # Initial roll\n",
    "    first_roll = roll_dice()\n",
    "    total = sum(first_roll)\n",
    "    print(f\"You rolled {first_roll[0]} + {first_roll[1]} = {total}\")\n",
    "\n",
    "    # Determine the outcome of the first roll\n",
    "    if total in (7, 11):\n",
    "        print(\"You win!\")\n",
    "    elif total in (2, 3, 12):\n",
    "        print(\"You lose!\")\n",
    "    else:\n",
    "        # Establish a point\n",
    "        point = total\n",
    "        print(f\"Point established at {point}. Keep rolling!\")\n",
    "\n",
    "        while True:\n",
    "            next_roll = roll_dice()\n",
    "            next_total = sum(next_roll)\n",
    "            print(f\"You rolled {next_roll[0]} + {next_roll[1]} = {next_total}\")\n",
    "\n",
    "            if next_total == point:\n",
    "                print(\"You win!\")\n",
    "                break\n",
    "            elif next_total == 7:\n",
    "                print(\"You lose!\")\n",
    "                break"
   ]
  },
  {
   "cell_type": "code",
   "execution_count": 15,
   "metadata": {},
   "outputs": [
    {
     "name": "stdout",
     "output_type": "stream",
     "text": [
      "Welcome to Craps!\n",
      "You rolled 5 + 4 = 9\n",
      "Point established at 9. Keep rolling!\n",
      "You rolled 1 + 5 = 6\n",
      "You rolled 1 + 5 = 6\n",
      "You rolled 4 + 3 = 7\n",
      "You lose!\n"
     ]
    }
   ],
   "source": [
    "craps()"
   ]
  }
 ],
 "metadata": {
  "kernelspec": {
   "display_name": ".venv",
   "language": "python",
   "name": "python3"
  },
  "language_info": {
   "codemirror_mode": {
    "name": "ipython",
    "version": 3
   },
   "file_extension": ".py",
   "mimetype": "text/x-python",
   "name": "python",
   "nbconvert_exporter": "python",
   "pygments_lexer": "ipython3",
   "version": "3.11.9"
  }
 },
 "nbformat": 4,
 "nbformat_minor": 2
}
