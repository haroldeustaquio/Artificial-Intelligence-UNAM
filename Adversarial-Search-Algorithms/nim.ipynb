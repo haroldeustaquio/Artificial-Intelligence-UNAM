{
 "cells": [
  {
   "cell_type": "markdown",
   "metadata": {},
   "source": [
    "# Nim"
   ]
  },
  {
   "cell_type": "markdown",
   "metadata": {},
   "source": [
    "- Three stacks of toothpicks are used, each with a starting amount.\n",
    "- Players take turns, choosing which stack to remove toothpicks from. The game ends when there are no toothpicks left."
   ]
  },
  {
   "cell_type": "code",
   "execution_count": 2,
   "metadata": {},
   "outputs": [],
   "source": [
    "def nim():\n",
    "    piles = [3, 5, 7]  # Tres pilas de palillos\n",
    "    player = 1\n",
    "\n",
    "    while any(piles):  # Mientras haya palillos en alguna pila\n",
    "        print(f\"\\nEstado actual de las pilas: {piles}\")\n",
    "        print(f\"Turno del jugador {player}. Introduce la pila (0, 1 o 2) y el número de palillos a quitar:\")\n",
    "        \n",
    "        pile, count = map(int, input().split())\n",
    "        \n",
    "        if piles[pile] >= count > 0:\n",
    "            piles[pile] -= count\n",
    "            player = 2 if player == 1 else 1\n",
    "        else:\n",
    "            print(\"Movimiento inválido. Intenta de nuevo.\")\n",
    "\n",
    "    print(f\"¡El jugador {player} ha ganado!\")"
   ]
  },
  {
   "cell_type": "code",
   "execution_count": 3,
   "metadata": {},
   "outputs": [
    {
     "name": "stdout",
     "output_type": "stream",
     "text": [
      "\n",
      "Estado actual de las pilas: [3, 5, 7]\n",
      "Turno del jugador 1. Introduce la pila (0, 1 o 2) y el número de palillos a quitar:\n",
      "Movimiento inválido. Intenta de nuevo.\n",
      "\n",
      "Estado actual de las pilas: [3, 5, 7]\n",
      "Turno del jugador 1. Introduce la pila (0, 1 o 2) y el número de palillos a quitar:\n",
      "Movimiento inválido. Intenta de nuevo.\n",
      "\n",
      "Estado actual de las pilas: [3, 5, 7]\n",
      "Turno del jugador 1. Introduce la pila (0, 1 o 2) y el número de palillos a quitar:\n",
      "\n",
      "Estado actual de las pilas: [3, 4, 7]\n",
      "Turno del jugador 2. Introduce la pila (0, 1 o 2) y el número de palillos a quitar:\n",
      "\n",
      "Estado actual de las pilas: [3, 1, 7]\n",
      "Turno del jugador 1. Introduce la pila (0, 1 o 2) y el número de palillos a quitar:\n",
      "\n",
      "Estado actual de las pilas: [3, 0, 7]\n",
      "Turno del jugador 2. Introduce la pila (0, 1 o 2) y el número de palillos a quitar:\n",
      "\n",
      "Estado actual de las pilas: [3, 0, 0]\n",
      "Turno del jugador 1. Introduce la pila (0, 1 o 2) y el número de palillos a quitar:\n",
      "Movimiento inválido. Intenta de nuevo.\n",
      "\n",
      "Estado actual de las pilas: [3, 0, 0]\n",
      "Turno del jugador 1. Introduce la pila (0, 1 o 2) y el número de palillos a quitar:\n",
      "\n",
      "Estado actual de las pilas: [1, 0, 0]\n",
      "Turno del jugador 2. Introduce la pila (0, 1 o 2) y el número de palillos a quitar:\n",
      "¡El jugador 1 ha ganado!\n"
     ]
    }
   ],
   "source": [
    "nim()"
   ]
  }
 ],
 "metadata": {
  "kernelspec": {
   "display_name": ".venv",
   "language": "python",
   "name": "python3"
  },
  "language_info": {
   "codemirror_mode": {
    "name": "ipython",
    "version": 3
   },
   "file_extension": ".py",
   "mimetype": "text/x-python",
   "name": "python",
   "nbconvert_exporter": "python",
   "pygments_lexer": "ipython3",
   "version": "3.11.9"
  }
 },
 "nbformat": 4,
 "nbformat_minor": 2
}
