{
 "cells": [
  {
   "cell_type": "code",
   "execution_count": 77,
   "metadata": {},
   "outputs": [
    {
     "name": "stdout",
     "output_type": "stream",
     "text": [
      "Output: 46.34818984365848\n"
     ]
    }
   ],
   "source": [
    "import numpy as np\n",
    "import skfuzzy as fuzz\n",
    "from skfuzzy import control as ctrl\n",
    "\n",
    "# Definimos las variables de entrada al sistema\n",
    "edad = ctrl.Antecedent(np.arange(18, 71, 0.1), 'edad')  \n",
    "manejo = ctrl.Antecedent(np.arange(0, 101, 0.1), 'manejo')  \n",
    "\n",
    "# Definimos la variable de salida del sistema\n",
    "riesgo = ctrl.Consequent(np.arange(0,101,0.1),'riesgo')\n",
    "\n",
    "# Funciones de pertenencia\n",
    "edad['joven'] = fuzz.trapmf(edad.universe, [18, 18, 25, 30])\n",
    "edad['adulto'] = fuzz.trimf(edad.universe, [20, 35, 50])\n",
    "edad['mayor'] = fuzz.trapmf(edad.universe, [40, 60, 70, 70])\n",
    "\n",
    "manejo['bajo'] = fuzz.trapmf(manejo.universe, [0, 0, 10, 20])\n",
    "manejo['medio'] = fuzz.trimf(manejo.universe, [10, 40, 60])\n",
    "manejo['alto'] = fuzz.trapmf(manejo.universe, [50, 70, 100, 100])\n",
    "\n",
    "riesgo['bajo'] = fuzz.trapmf(riesgo.universe, [0, 0, 10, 20])\n",
    "riesgo['medio'] = fuzz.trimf(riesgo.universe, [10, 30, 45])\n",
    "riesgo['alto'] = fuzz.trapmf(riesgo.universe, [40, 55, 100, 100])\n",
    "\n",
    "# Asignación del conjunto de reglas\n",
    "rule1 = ctrl.Rule(edad['joven'] & manejo['bajo'], riesgo['medio'])\n",
    "rule2 = ctrl.Rule(edad['adulto'] & manejo['bajo'], riesgo['bajo'])\n",
    "rule3 = ctrl.Rule(edad['mayor'] & manejo['bajo'], riesgo['medio'])\n",
    "rule4 = ctrl.Rule(edad['joven'] & manejo['medio'], riesgo['alto'])\n",
    "rule5 = ctrl.Rule(edad['adulto'] & manejo['medio'], riesgo['medio'])\n",
    "rule6 = ctrl.Rule(edad['mayor'] & manejo['medio'], riesgo['alto'])\n",
    "rule7 = ctrl.Rule(edad['joven'] & manejo['alto'], riesgo['alto'])\n",
    "rule8 = ctrl.Rule(edad['adulto'] & manejo['alto'], riesgo['alto'])\n",
    "rule9 = ctrl.Rule(edad['mayor'] & manejo['alto'], riesgo['alto'])\n",
    "\n",
    "fan_control = ctrl.ControlSystem([rule1 ,rule2 ,rule3 ,rule4 ,rule5 ,rule6 ,rule7 ,rule8 ,rule9])\n",
    "fan_simulation = ctrl.ControlSystemSimulation(fan_control)\n",
    "\n",
    "# Asignar el valor de entrada\n",
    "fan_simulation.input['edad'] = 55\n",
    "fan_simulation.input['manejo'] = 15\n",
    "\n",
    "# Computar el sistema\n",
    "fan_simulation.compute()\n",
    "\n",
    "# Resultado de la salida\n",
    "print(f'Output: {fan_simulation.output[\"riesgo\"]}')"
   ]
  },
  {
   "cell_type": "code",
   "execution_count": 71,
   "metadata": {},
   "outputs": [
    {
     "name": "stdout",
     "output_type": "stream",
     "text": [
      "Centroide: 72.42424242424244, 0.32\n"
     ]
    }
   ],
   "source": [
    "from shapely.geometry import Polygon\n",
    "\n",
    "# Coordenadas de los vértices de la figura cóncava\n",
    "coords = [\n",
    "(40, 0), (50 , 0.66), (100, 0.66) ,(100,0)\n",
    "]\n",
    "\n",
    "# Crear el polígono\n",
    "polygon = Polygon(coords)\n",
    "\n",
    "# Calcular el centroide\n",
    "centroid = polygon.centroid\n",
    "\n",
    "# Mostrar las coordenadas del centroide\n",
    "print(f\"Centroide: {centroid.x}, {centroid.y}\")"
   ]
  }
 ],
 "metadata": {
  "kernelspec": {
   "display_name": ".venv",
   "language": "python",
   "name": "python3"
  },
  "language_info": {
   "codemirror_mode": {
    "name": "ipython",
    "version": 3
   },
   "file_extension": ".py",
   "mimetype": "text/x-python",
   "name": "python",
   "nbconvert_exporter": "python",
   "pygments_lexer": "ipython3",
   "version": "3.11.9"
  }
 },
 "nbformat": 4,
 "nbformat_minor": 2
}
